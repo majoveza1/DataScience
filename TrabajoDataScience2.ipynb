{
 "cells": [
  {
   "cell_type": "markdown",
   "metadata": {},
   "source": [
    "<div align=\"center\"> #----- SISTEMAS DE RECOMENDACIÓN -----# </div>\n",
    "\n",
    "<img src=\"sistemas.png\">"
   ]
  },
  {
   "cell_type": "markdown",
   "metadata": {},
   "source": [
    " ## **Trabajo Final de Data Science**"
   ]
  },
  {
   "cell_type": "code",
   "execution_count": 5,
   "metadata": {},
   "outputs": [
    {
     "name": "stdout",
     "output_type": "stream",
     "text": [
      "Collecting en_core_web_sm==2.2.5 from https://github.com/explosion/spacy-models/releases/download/en_core_web_sm-2.2.5/en_core_web_sm-2.2.5.tar.gz#egg=en_core_web_sm==2.2.5\n",
      "\u001b[?25l  Downloading https://github.com/explosion/spacy-models/releases/download/en_core_web_sm-2.2.5/en_core_web_sm-2.2.5.tar.gz (12.0MB)\n",
      "\u001b[K     |████████████████████████████████| 12.0MB 2.6MB/s eta 0:00:01\n",
      "\u001b[?25hRequirement already satisfied: spacy>=2.2.2 in /Users/osita/opt/anaconda3/lib/python3.7/site-packages (from en_core_web_sm==2.2.5) (2.2.4)\n",
      "Requirement already satisfied: blis<0.5.0,>=0.4.0 in /Users/osita/opt/anaconda3/lib/python3.7/site-packages (from spacy>=2.2.2->en_core_web_sm==2.2.5) (0.4.1)\n",
      "Requirement already satisfied: cymem<2.1.0,>=2.0.2 in /Users/osita/opt/anaconda3/lib/python3.7/site-packages (from spacy>=2.2.2->en_core_web_sm==2.2.5) (2.0.3)\n",
      "Requirement already satisfied: catalogue<1.1.0,>=0.0.7 in /Users/osita/opt/anaconda3/lib/python3.7/site-packages (from spacy>=2.2.2->en_core_web_sm==2.2.5) (1.0.0)\n",
      "Requirement already satisfied: setuptools in /Users/osita/opt/anaconda3/lib/python3.7/site-packages (from spacy>=2.2.2->en_core_web_sm==2.2.5) (41.4.0)\n",
      "Requirement already satisfied: preshed<3.1.0,>=3.0.2 in /Users/osita/opt/anaconda3/lib/python3.7/site-packages (from spacy>=2.2.2->en_core_web_sm==2.2.5) (3.0.2)\n",
      "Requirement already satisfied: plac<1.2.0,>=0.9.6 in /Users/osita/opt/anaconda3/lib/python3.7/site-packages (from spacy>=2.2.2->en_core_web_sm==2.2.5) (1.1.3)\n",
      "Requirement already satisfied: requests<3.0.0,>=2.13.0 in /Users/osita/opt/anaconda3/lib/python3.7/site-packages (from spacy>=2.2.2->en_core_web_sm==2.2.5) (2.22.0)\n",
      "Requirement already satisfied: srsly<1.1.0,>=1.0.2 in /Users/osita/opt/anaconda3/lib/python3.7/site-packages (from spacy>=2.2.2->en_core_web_sm==2.2.5) (1.0.2)\n",
      "Requirement already satisfied: thinc==7.4.0 in /Users/osita/opt/anaconda3/lib/python3.7/site-packages (from spacy>=2.2.2->en_core_web_sm==2.2.5) (7.4.0)\n",
      "Requirement already satisfied: murmurhash<1.1.0,>=0.28.0 in /Users/osita/opt/anaconda3/lib/python3.7/site-packages (from spacy>=2.2.2->en_core_web_sm==2.2.5) (1.0.2)\n",
      "Requirement already satisfied: tqdm<5.0.0,>=4.38.0 in /Users/osita/opt/anaconda3/lib/python3.7/site-packages (from spacy>=2.2.2->en_core_web_sm==2.2.5) (4.45.0)\n",
      "Requirement already satisfied: wasabi<1.1.0,>=0.4.0 in /Users/osita/opt/anaconda3/lib/python3.7/site-packages (from spacy>=2.2.2->en_core_web_sm==2.2.5) (0.6.0)\n",
      "Requirement already satisfied: numpy>=1.15.0 in /Users/osita/opt/anaconda3/lib/python3.7/site-packages (from spacy>=2.2.2->en_core_web_sm==2.2.5) (1.17.2)\n",
      "Requirement already satisfied: importlib-metadata>=0.20; python_version < \"3.8\" in /Users/osita/opt/anaconda3/lib/python3.7/site-packages (from catalogue<1.1.0,>=0.0.7->spacy>=2.2.2->en_core_web_sm==2.2.5) (0.23)\n",
      "Requirement already satisfied: urllib3!=1.25.0,!=1.25.1,<1.26,>=1.21.1 in /Users/osita/opt/anaconda3/lib/python3.7/site-packages (from requests<3.0.0,>=2.13.0->spacy>=2.2.2->en_core_web_sm==2.2.5) (1.24.2)\n",
      "Requirement already satisfied: certifi>=2017.4.17 in /Users/osita/opt/anaconda3/lib/python3.7/site-packages (from requests<3.0.0,>=2.13.0->spacy>=2.2.2->en_core_web_sm==2.2.5) (2019.9.11)\n",
      "Requirement already satisfied: idna<2.9,>=2.5 in /Users/osita/opt/anaconda3/lib/python3.7/site-packages (from requests<3.0.0,>=2.13.0->spacy>=2.2.2->en_core_web_sm==2.2.5) (2.8)\n",
      "Requirement already satisfied: chardet<3.1.0,>=3.0.2 in /Users/osita/opt/anaconda3/lib/python3.7/site-packages (from requests<3.0.0,>=2.13.0->spacy>=2.2.2->en_core_web_sm==2.2.5) (3.0.4)\n",
      "Requirement already satisfied: zipp>=0.5 in /Users/osita/opt/anaconda3/lib/python3.7/site-packages (from importlib-metadata>=0.20; python_version < \"3.8\"->catalogue<1.1.0,>=0.0.7->spacy>=2.2.2->en_core_web_sm==2.2.5) (0.6.0)\n",
      "Requirement already satisfied: more-itertools in /Users/osita/opt/anaconda3/lib/python3.7/site-packages (from zipp>=0.5->importlib-metadata>=0.20; python_version < \"3.8\"->catalogue<1.1.0,>=0.0.7->spacy>=2.2.2->en_core_web_sm==2.2.5) (7.2.0)\n",
      "Building wheels for collected packages: en-core-web-sm\n",
      "  Building wheel for en-core-web-sm (setup.py) ... \u001b[?25ldone\n",
      "\u001b[?25h  Created wheel for en-core-web-sm: filename=en_core_web_sm-2.2.5-cp37-none-any.whl size=12011740 sha256=6da9d3fe25a95545aa698f762cffd529e9d09da97d0d42964e84125b36c359cc\n",
      "  Stored in directory: /private/var/folders/jc/lr5522ss7nn97zq58kg3xnph0000gp/T/pip-ephem-wheel-cache-qnlh_f92/wheels/6a/47/fb/6b5a0b8906d8e8779246c67d4658fd8a544d4a03a75520197a\n",
      "Successfully built en-core-web-sm\n",
      "Installing collected packages: en-core-web-sm\n",
      "Successfully installed en-core-web-sm-2.2.5\n",
      "\u001b[38;5;2m✔ Download and installation successful\u001b[0m\n",
      "You can now load the model via spacy.load('en_core_web_sm')\n"
     ]
    }
   ],
   "source": [
    "################################\n",
    "#----- Carga de Librerías -----#\n",
    "################################\n",
    "\n",
    "!python -m spacy download en\n",
    "!python -m spacy download es\n",
    "!pip install -U spacy\n",
    "!python -m spacy download en_core_web_sm\n",
    "\n",
    "## Genéricas ##\n",
    "import numpy as np\n",
    "import pandas as pd\n",
    "import datetime as dt\n",
    "import re\n",
    "import warnings\n",
    "warnings.filterwarnings('ignore')\n",
    "\n",
    "## Visualización\n",
    "from plotnine import *\n",
    "import folium\n",
    "import seaborn as sns\n",
    "from IPython.display import Image, HTML\n",
    "import matplotlib.pyplot as plt\n",
    "from wordcloud import WordCloud, STOPWORDS,ImageColorGenerator\n",
    "\n",
    "## Análisis de Datos - Modelamiento\n",
    "from sklearn.feature_extraction.text import TfidfVectorizer\n",
    "from sklearn.metrics.pairwise import linear_kernel\n",
    "from langdetect import detect\n",
    "import nltk\n",
    "from nltk.corpus import stopwords\n",
    "import plotly.express as px\n",
    "from vaderSentiment.vaderSentiment import SentimentIntensityAnalyzer\n",
    "import spacy\n",
    "import en_core_web_sm\n",
    "from ast import literal_eval\n",
    "from string import punctuation"
   ]
  },
  {
   "cell_type": "markdown",
   "metadata": {},
   "source": [
    "## * Evaluación del Modelo :"
   ]
  },
  {
   "cell_type": "code",
   "execution_count": 6,
   "metadata": {},
   "outputs": [],
   "source": [
    "# Carga del csv \n",
    "\n",
    "listings_recomen = pd.read_csv('listings_recomen.csv', sep = \",\")"
   ]
  },
  {
   "cell_type": "code",
   "execution_count": 7,
   "metadata": {},
   "outputs": [],
   "source": [
    "listings_recomen['id'] = listings_recomen['id'].astype(str)"
   ]
  },
  {
   "cell_type": "code",
   "execution_count": 8,
   "metadata": {},
   "outputs": [],
   "source": [
    "listings_recomen = listings_recomen.drop(['Unnamed: 0'], axis = 1)"
   ]
  },
  {
   "cell_type": "code",
   "execution_count": 9,
   "metadata": {},
   "outputs": [
    {
     "data": {
      "text/html": [
       "<div>\n",
       "<style scoped>\n",
       "    .dataframe tbody tr th:only-of-type {\n",
       "        vertical-align: middle;\n",
       "    }\n",
       "\n",
       "    .dataframe tbody tr th {\n",
       "        vertical-align: top;\n",
       "    }\n",
       "\n",
       "    .dataframe thead th {\n",
       "        text-align: right;\n",
       "    }\n",
       "</style>\n",
       "<table border=\"1\" class=\"dataframe\">\n",
       "  <thead>\n",
       "    <tr style=\"text-align: right;\">\n",
       "      <th></th>\n",
       "      <th>id</th>\n",
       "      <th>listing_url</th>\n",
       "      <th>name</th>\n",
       "      <th>space</th>\n",
       "      <th>summary</th>\n",
       "      <th>description</th>\n",
       "      <th>picture_url</th>\n",
       "      <th>host_id</th>\n",
       "      <th>host_is_superhost</th>\n",
       "      <th>host_url</th>\n",
       "      <th>...</th>\n",
       "      <th>name_low</th>\n",
       "      <th>description_low</th>\n",
       "      <th>space_low</th>\n",
       "      <th>listing_id</th>\n",
       "      <th>comments</th>\n",
       "      <th>compuesto</th>\n",
       "      <th>compuesto_var</th>\n",
       "      <th>sentimiento</th>\n",
       "      <th>adjetivos</th>\n",
       "      <th>content</th>\n",
       "    </tr>\n",
       "  </thead>\n",
       "  <tbody>\n",
       "    <tr>\n",
       "      <td>0</td>\n",
       "      <td>23197</td>\n",
       "      <td>https://www.airbnb.com/rooms/23197</td>\n",
       "      <td>Forum DeLuxe 5 mins Walk  To CCIB Center &amp; Sea★</td>\n",
       "      <td>Elegant spacious apartment suitable for 6. Amp...</td>\n",
       "      <td>I do not accept groups of young people under 2...</td>\n",
       "      <td>I do not accept groups of young people under 2...</td>\n",
       "      <td>https://a0.muscache.com/im/pictures/738532/806...</td>\n",
       "      <td>90417</td>\n",
       "      <td>t</td>\n",
       "      <td>https://www.airbnb.com/users/show/90417</td>\n",
       "      <td>...</td>\n",
       "      <td>forum deluxe mins walk ccib center sea</td>\n",
       "      <td>accept groups young people apartment suitable ...</td>\n",
       "      <td>elegant spacious apartment suitable ample loun...</td>\n",
       "      <td>23197.0</td>\n",
       "      <td>13.0</td>\n",
       "      <td>0.929346</td>\n",
       "      <td>0.072896</td>\n",
       "      <td>positivo</td>\n",
       "      <td>huge, little, chilly, early, close, wonderful,...</td>\n",
       "      <td>forum deluxe mins walk ccib center sea  // acc...</td>\n",
       "    </tr>\n",
       "    <tr>\n",
       "      <td>1</td>\n",
       "      <td>25786</td>\n",
       "      <td>https://www.airbnb.com/rooms/25786</td>\n",
       "      <td>NICE ROOM AVAILABLE IN THE HEART OF GRACIA</td>\n",
       "      <td>Room available for rent.-  PEDRO PEREZ.  Share...</td>\n",
       "      <td>JUST GO THROUGH THE MANY REVIEWS I GOT THROUGH...</td>\n",
       "      <td>JUST GO THROUGH THE MANY REVIEWS I GOT THROUGH...</td>\n",
       "      <td>https://a0.muscache.com/im/pictures/6619f0c7-8...</td>\n",
       "      <td>108310</td>\n",
       "      <td>t</td>\n",
       "      <td>https://www.airbnb.com/users/show/108310</td>\n",
       "      <td>...</td>\n",
       "      <td>nice room available heart gracia</td>\n",
       "      <td>go many reviews got years better feedback welc...</td>\n",
       "      <td>room available rent pedro perez shared catalan...</td>\n",
       "      <td>25786.0</td>\n",
       "      <td>5.0</td>\n",
       "      <td>0.000000</td>\n",
       "      <td>-0.888359</td>\n",
       "      <td>neutro</td>\n",
       "      <td>NaN</td>\n",
       "      <td>nice room available heart gracia // go many re...</td>\n",
       "    </tr>\n",
       "  </tbody>\n",
       "</table>\n",
       "<p>2 rows × 68 columns</p>\n",
       "</div>"
      ],
      "text/plain": [
       "      id                         listing_url  \\\n",
       "0  23197  https://www.airbnb.com/rooms/23197   \n",
       "1  25786  https://www.airbnb.com/rooms/25786   \n",
       "\n",
       "                                              name  \\\n",
       "0  Forum DeLuxe 5 mins Walk  To CCIB Center & Sea★   \n",
       "1       NICE ROOM AVAILABLE IN THE HEART OF GRACIA   \n",
       "\n",
       "                                               space  \\\n",
       "0  Elegant spacious apartment suitable for 6. Amp...   \n",
       "1  Room available for rent.-  PEDRO PEREZ.  Share...   \n",
       "\n",
       "                                             summary  \\\n",
       "0  I do not accept groups of young people under 2...   \n",
       "1  JUST GO THROUGH THE MANY REVIEWS I GOT THROUGH...   \n",
       "\n",
       "                                         description  \\\n",
       "0  I do not accept groups of young people under 2...   \n",
       "1  JUST GO THROUGH THE MANY REVIEWS I GOT THROUGH...   \n",
       "\n",
       "                                         picture_url  host_id  \\\n",
       "0  https://a0.muscache.com/im/pictures/738532/806...    90417   \n",
       "1  https://a0.muscache.com/im/pictures/6619f0c7-8...   108310   \n",
       "\n",
       "  host_is_superhost                                  host_url  ...  \\\n",
       "0                 t   https://www.airbnb.com/users/show/90417  ...   \n",
       "1                 t  https://www.airbnb.com/users/show/108310  ...   \n",
       "\n",
       "                                  name_low  \\\n",
       "0  forum deluxe mins walk ccib center sea    \n",
       "1         nice room available heart gracia   \n",
       "\n",
       "                                     description_low  \\\n",
       "0  accept groups young people apartment suitable ...   \n",
       "1  go many reviews got years better feedback welc...   \n",
       "\n",
       "                                           space_low listing_id  comments  \\\n",
       "0  elegant spacious apartment suitable ample loun...    23197.0      13.0   \n",
       "1  room available rent pedro perez shared catalan...    25786.0       5.0   \n",
       "\n",
       "  compuesto  compuesto_var  sentimiento  \\\n",
       "0  0.929346       0.072896     positivo   \n",
       "1  0.000000      -0.888359       neutro   \n",
       "\n",
       "                                           adjetivos  \\\n",
       "0  huge, little, chilly, early, close, wonderful,...   \n",
       "1                                                NaN   \n",
       "\n",
       "                                             content  \n",
       "0  forum deluxe mins walk ccib center sea  // acc...  \n",
       "1  nice room available heart gracia // go many re...  \n",
       "\n",
       "[2 rows x 68 columns]"
      ]
     },
     "execution_count": 9,
     "metadata": {},
     "output_type": "execute_result"
    }
   ],
   "source": [
    "listings_recomen.head(2)"
   ]
  },
  {
   "cell_type": "code",
   "execution_count": 10,
   "metadata": {},
   "outputs": [],
   "source": [
    "tf = TfidfVectorizer(analyzer = 'word', ngram_range = (1, 2), min_df = 0.1, stop_words = 'english')\n",
    "tfidf_matrix = tf.fit_transform(listings_recomen['content'])"
   ]
  },
  {
   "cell_type": "code",
   "execution_count": null,
   "metadata": {},
   "outputs": [],
   "source": [
    "# toma su tiempo\n",
    "cosine_similarities = linear_kernel(tfidf_matrix, tfidf_matrix)\n",
    "cosine_similarities"
   ]
  },
  {
   "cell_type": "code",
   "execution_count": null,
   "metadata": {},
   "outputs": [],
   "source": [
    "results = {}\n",
    "for idx, row in listings_recomen.iterrows():\n",
    "    similar_indices = cosine_similarities[idx].argsort()[:-100:-1]\n",
    "    similar_items = [(cosine_similarities[idx][i], listings_recomen['id'][i]) for i in similar_indices]\n",
    "    results[row['id']] = similar_items[1:]\n",
    "    \n",
    "results"
   ]
  },
  {
   "cell_type": "code",
   "execution_count": 15,
   "metadata": {},
   "outputs": [],
   "source": [
    "######################################\n",
    "#-----    Rutinas Definidas     -----#\n",
    "#####################################\n",
    "def item(id):\n",
    "    name   = listings_recomen.loc[listings_recomen['id'] == id]['content'].tolist()[0].split(' // ')[0]\n",
    "    desc   = ' Descripción: ' + listings_recomen.loc[listings_recomen['id'] == id]['content'].tolist()[0].split(' // ')[1][0:165] + '...'\n",
    "    rat    = ' Rating: ' + listings_recomen.loc[listings_recomen['id'] == id]['review_scores_rating'].astype(str)\n",
    "    var    = ' Variación: ' + listings_recomen.loc[listings_recomen['id'] == id]['compuesto_var'].astype(str)\n",
    "    sent   = ' Sentimiento: ' + listings_recomen.loc[listings_recomen['id'] == id]['sentimiento']\n",
    "    ciud   = 'Ciudad: ' + listings_recomen.loc[listings_recomen['id'] == id]['city'] \n",
    "    prediction = str(name)  + str(desc) + str(ciud) + str(sent)+ str(rat) + str(var)\n",
    "    return prediction\n",
    "\n",
    "def recommend(item_id, num, ciudad):                                                                                   \n",
    "    print('Sitio de inicio ' + str(num) + ' producto similar a ' + item(item_id))\n",
    "    print('---------------------------------------------------------------------------')\n",
    "    recs = results[item_id]\n",
    "    tmp = []\n",
    "    for rec in recs:\n",
    "        if (listings_recomen[listings_recomen['id'] == (rec[1])].city.values != listings_recomen[listings_recomen['id'] == item_id].city.values) & (listings_recomen[listings_recomen['id'] == (rec[1])].city.values == ciudad):\n",
    "            print(\" Recommended: \" + item(rec[1]) + \"  (score:\" + str(rec[0]) + ')')\n",
    "            tmp.append(rec[1])\n",
    "        if len(tmp)>= num:\n",
    "            break"
   ]
  },
  {
   "cell_type": "markdown",
   "metadata": {},
   "source": [
    "## * Visualización del recomendador :"
   ]
  },
  {
   "cell_type": "code",
   "execution_count": 16,
   "metadata": {},
   "outputs": [
    {
     "name": "stdout",
     "output_type": "stream",
     "text": [
      "Sitio de inicio 4 producto similar a entire stfl flat brbalconyterpool view Descripción: licence tasteful bright fresh apartment villa alexia nd floor apt balcony terrace overlooking swimming pool set complex apartments charming puerto pollen a property ...60484    Ciudad: Mallorca\n",
      "Name: city, dtype: object60484     Sentimiento: positivo\n",
      "Name: sentimiento, dtype: object60484     Rating: 100.0\n",
      "Name: review_scores_rating, dtype: object60484     Variación: nan\n",
      "Name: compuesto_var, dtype: object\n",
      "---\n",
      " Recommended: bcn sagrada familia penthouse Descripción: large bright apartment superb terrace view emblematic sagrada familia completely renovated early apartment ideally located steps sagrada familia avenue gaudi large b...4651    Ciudad: Barcelona\n",
      "Name: city, dtype: object4651     Sentimiento: positivo\n",
      "Name: sentimiento, dtype: object4651     Rating: 85.0\n",
      "Name: review_scores_rating, dtype: object4651     Variación: 0.2037368421052632\n",
      "Name: compuesto_var, dtype: object  (score:0.6627231111712387)\n",
      " Recommended: forum deluxe mins walk ccib center sea  Descripción: accept groups young people apartment suitable ideal families quiet people beautiful apartment large terrace min walk ccib center sea port forum great location combin...0    Ciudad: Barcelona\n",
      "Name: city, dtype: object0     Sentimiento: positivo\n",
      "Name: sentimiento, dtype: object0     Rating: 95.0\n",
      "Name: review_scores_rating, dtype: object0     Variación: 0.07289615384615378\n",
      "Name: compuesto_var, dtype: object  (score:0.6386731639587815)\n",
      " Recommended: ab luxury palace ref gi Descripción: apartment forms part stately palauet tres torres house modern styled house built early th century luxury apartment made five apartments joined large terrace connecte...13127    Ciudad: Barcelona\n",
      "Name: city, dtype: object13127     Sentimiento: positivo\n",
      "Name: sentimiento, dtype: object13127     Rating: 90.0\n",
      "Name: review_scores_rating, dtype: object13127     Variación: nan\n",
      "Name: compuesto_var, dtype: object  (score:0.6304493736214841)\n",
      " Recommended: stylish eixample luxury center big terrace Descripción: elegant quiet apartment private terrace next paseo de gracia ac rooms staying stylish eixample ensures perfect unforgettable holidays accepted youth groups stylish a...3195    Ciudad: Barcelona\n",
      "Name: city, dtype: object3195     Sentimiento: positivo\n",
      "Name: sentimiento, dtype: object3195     Rating: 93.0\n",
      "Name: review_scores_rating, dtype: object3195     Variación: -0.17501666666666682\n",
      "Name: compuesto_var, dtype: object  (score:0.6274842296374196)\n"
     ]
    }
   ],
   "source": [
    "# Salida del recomendador\n",
    "\n",
    "recommend(item_id = '31184437' , num = 4, ciudad = 'Barcelona')"
   ]
  }
 ],
 "metadata": {
  "hide_input": false,
  "kernelspec": {
   "display_name": "Python 3",
   "language": "python",
   "name": "python3"
  },
  "language_info": {
   "codemirror_mode": {
    "name": "ipython",
    "version": 3
   },
   "file_extension": ".py",
   "mimetype": "text/x-python",
   "name": "python",
   "nbconvert_exporter": "python",
   "pygments_lexer": "ipython3",
   "version": "3.7.4"
  }
 },
 "nbformat": 4,
 "nbformat_minor": 2
}
